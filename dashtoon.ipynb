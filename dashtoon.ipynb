{
 "cells": [
  {
   "cell_type": "code",
   "execution_count": null,
   "metadata": {},
   "outputs": [],
   "source": [
    "# Import necessary libraries\n",
    "import numpy as np\n",
    "from tensorflow.keras.preprocessing.image import load_img, img_to_array\n",
    "\n",
    "# Load and preprocess images\n",
    "def load_and_preprocess_image(image_path, target_size=(256, 256)):\n",
    "    img = load_img(image_path, target_size=target_size)\n",
    "    img = img_to_array(img)\n",
    "    img = np.expand_dims(img, axis=0)\n",
    "    img = img / 255.0  \n",
    "    return img\n",
    "\n",
    "\n",
    "dataset_path = 'path/to/your/dataset'\n",
    "\n",
    "\n",
    "# Example: loading two images for content and style\n",
    "content_image_path = 'path/to/content/image.jpg'\n",
    "style_image_path = 'path/to/style/image.jpg'\n",
    "\n",
    "content_image = load_and_preprocess_image(content_image_path)\n",
    "style_image = load_and_preprocess_image(style_image_path)\n"
   ]
  },
  {
   "cell_type": "code",
   "execution_count": null,
   "metadata": {},
   "outputs": [],
   "source": [
    "from tensorflow.keras.applications import VGG19\n",
    "from tensorflow.keras.models import Model\n",
    "\n",
    "def create_model():\n",
    "    base_model = VGG19(weights='imagenet', include_top=False)\n",
    "    base_model.trainable = False\n",
    "\n",
    "    # Extract feature maps from intermediate layers\n",
    "    content_layers = ['block5_conv2']\n",
    "    style_layers = ['block1_conv1', 'block2_conv1', 'block3_conv1', 'block4_conv1', 'block5_conv1']\n",
    "\n",
    "    content_outputs = [base_model.get_layer(layer).output for layer in content_layers]\n",
    "    style_outputs = [base_model.get_layer(layer).output for layer in style_layers]\n",
    "\n",
    "    model_outputs = content_outputs + style_outputs\n",
    "\n",
    "    # Create the model\n",
    "    model = Model(inputs=base_model.input, outputs=model_outputs)\n",
    "    return model\n"
   ]
  },
  {
   "cell_type": "code",
   "execution_count": null,
   "metadata": {},
   "outputs": [],
   "source": [
    "from tensorflow.keras.optimizers import Adam\n",
    "from tensorflow.keras.losses import MeanSquaredError\n",
    "\n",
    "def create_loss_model(content_weight, style_weight):\n",
    "    model = create_model()\n",
    "\n",
    "    # Freeze the layers\n",
    "    for layer in model.layers:\n",
    "        layer.trainable = False\n",
    "\n",
    "    # Define content and style loss functions\n",
    "    content_loss = MeanSquaredError()\n",
    "    style_loss = MeanSquaredError()\n",
    "\n",
    "    # Specify layer weights for content and style\n",
    "    content_weight /= len(content_layers)\n",
    "    style_weight /= len(style_layers)\n",
    "\n",
    "    # Compile the model\n",
    "    model.compile(optimizer=Adam(), loss=[content_loss] * len(content_layers) + [style_loss] * len(style_layers))\n",
    "\n",
    "    return model\n",
    "\n",
    "# Example usage\n",
    "content_weight = 1e3  \n",
    "style_weight = 1e-2  \n",
    "model = create_loss_model(content_weight, style_weight)\n",
    "model.fit(x=[content_image, style_image], y=[content_image, style_image], epochs=10, batch_size=1, verbose=1)\n"
   ]
  },
  {
   "cell_type": "code",
   "execution_count": null,
   "metadata": {},
   "outputs": [],
   "source": [
    "def stylize_image(input_image, model):\n",
    "    input_image = load_and_preprocess_image(input_image)\n",
    "    stylized_features = model.predict(input_image)\n",
    "\n",
    "    # Extract stylized content and style features\n",
    "    stylized_content = stylized_features[:len(content_layers)]\n",
    "    stylized_style = stylized_features[len(content_layers):]\n",
    "\n",
    "    \n",
    "\n",
    "    return stylized_image\n"
   ]
  }
 ],
 "metadata": {
  "language_info": {
   "name": "python"
  }
 },
 "nbformat": 4,
 "nbformat_minor": 2
}
